{
 "cells": [
  {
   "cell_type": "code",
   "execution_count": 16,
   "metadata": {},
   "outputs": [],
   "source": [
    "import numpy as np\n",
    "import matplotlib.pyplot as plt"
   ]
  },
  {
   "cell_type": "code",
   "execution_count": 21,
   "metadata": {},
   "outputs": [],
   "source": [
    "def pvalue_101(pop_mu, pop_sigma, samp_size, samp_mean=0, deltam=0):\n",
    "    np.random.seed(1234)\n",
    "    s1 = np.random.normal(pop_mu, pop_sigma, samp_size)\n",
    "    if samp_mean > 0:\n",
    "        print(len(s1[s1>samp_mean]))\n",
    "        outliers = float(len(s1[s1>samp_mean])*100)/float(len(s1))\n",
    "        print('Percentage of numbers larger than {} is {}%'.format(samp_mean, outliers))\n",
    "    if deltam == 0:\n",
    "        deltam = abs(pop_mu-samp_mean)\n",
    "    if deltam > 0 :\n",
    "        outliers = (float(len(s1[s1>(pop_mu+deltam)]))\n",
    "                    +float(len(s1[s1<(pop_mu-deltam)])))*100.0/float(len(s1))\n",
    "        print('Percentage of numbers further than the population mean of {} by +/-{} is {}%'.format(pop_mu, deltam, outliers))\n",
    "\n",
    "    fig, ax = plt.subplots(figsize=(8,8))\n",
    "    fig.suptitle('Normal Distribution: population_mean={}'.format(pop_mu) )\n",
    "    plt.hist(s1)\n",
    "    plt.axvline(x=pop_mu+deltam, color='red')\n",
    "    plt.axvline(x=pop_mu-deltam, color='green')\n",
    "    plt.show()"
   ]
  },
  {
   "cell_type": "code",
   "execution_count": 22,
   "metadata": {},
   "outputs": [
    {
     "name": "stdout",
     "output_type": "stream",
     "text": [
      "35\n",
      "Percentage of numbers larger than 183.0 is 0.35%\n",
      "Percentage of numbers further than the population mean of 170.0 by +/-13.0 is 0.77%\n"
     ]
    },
    {
     "data": {
      "image/png": "[encoded data removed]",
      "text/plain": [
       "<Figure size 576x576 with 1 Axes>"
      ]
     },
     "metadata": {
      "needs_background": "light"
     },
     "output_type": "display_data"
    }
   ],
   "source": [
    "pvalue_101(170.0, 5.0, 10000, 183.0)"
   ]
  },
  {
   "cell_type": "code",
   "execution_count": null,
   "metadata": {},
   "outputs": [],
   "source": []
  }
 ],
 "metadata": {
  "kernelspec": {
   "display_name": "Python 3",
   "language": "python",
   "name": "python3"
  },
  "language_info": {
   "codemirror_mode": {
    "name": "ipython",
    "version": 3
   },
   "file_extension": ".py",
   "mimetype": "text/x-python",
   "name": "python",
   "nbconvert_exporter": "python",
   "pygments_lexer": "ipython3",
   "version": "3.7.6"
  }
 },
 "nbformat": 4,
 "nbformat_minor": 4
}
